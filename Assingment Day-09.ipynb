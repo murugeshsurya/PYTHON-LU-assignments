{
 "cells": [
  {
   "cell_type": "raw",
   "metadata": {},
   "source": [
    "# Question 1\n",
    "Create a program to generate a password\n",
    "length 12\n",
    "6 random == \"A-Z a-z\"\n",
    "4 --> digits\n",
    "2 -- > special characters\n",
    "\n",
    "Expected Output:\n",
    "$ji12kt56yU#\n",
    "\n",
    "Not acceptable output:\n",
    "whiter1565#$\n",
    "\n",
    "\n",
    "Note: Output should be a mix of all the things mentioned above.\n",
    "\n"
   ]
  },
  {
   "cell_type": "code",
   "execution_count": 42,
   "metadata": {},
   "outputs": [
    {
     "name": "stdout",
     "output_type": "stream",
     "text": [
      "3f%591DSjL(i\n"
     ]
    }
   ],
   "source": [
    "import random \n",
    "import string\n",
    "\n",
    "\n",
    "alphabet=(string.ascii_letters)\n",
    "symbol=(string.punctuation)\n",
    "number=(string.digits)\n",
    "    \n",
    "a=random.sample(alphabet,6)\n",
    "s=random.sample(symbol,2)\n",
    "n=random.sample(number,4)\n",
    "chars=a+s+n \n",
    "random.shuffle(chars)    \n",
    "password=\"\".join(str(x) for x in chars)\n",
    "print(password)          \n",
    "    "
   ]
  },
  {
   "cell_type": "code",
   "execution_count": null,
   "metadata": {},
   "outputs": [],
   "source": []
  }
 ],
 "metadata": {
  "kernelspec": {
   "display_name": "Python 3",
   "language": "python",
   "name": "python3"
  },
  "language_info": {
   "codemirror_mode": {
    "name": "ipython",
    "version": 3
   },
   "file_extension": ".py",
   "mimetype": "text/x-python",
   "name": "python",
   "nbconvert_exporter": "python",
   "pygments_lexer": "ipython3",
   "version": "3.8.3"
  }
 },
 "nbformat": 4,
 "nbformat_minor": 4
}
