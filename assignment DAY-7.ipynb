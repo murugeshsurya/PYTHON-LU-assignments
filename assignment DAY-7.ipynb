{
 "cells": [
  {
   "cell_type": "markdown",
   "metadata": {},
   "source": [
    "Question \n",
    "\n",
    "list1=[10,20,30,40,50]\n",
    "\n",
    "list2=[5,15,25,35,45,60]\n",
    "\n",
    "Merge the two lists and give output as follows with new list\n",
    "\n",
    "\n",
    "\n",
    "Note:-\n",
    "#You have to use any one loop only one time\n",
    "#Don’t use in built functions of list i’es sort and sorted\n",
    "\n",
    "\n",
    "\n",
    "Without using this write the code and give the output\n",
    "\n",
    "\n",
    "Output:-\n",
    "list3=[5,10,15,20,25,30,35,40,45,50,60]"
   ]
  },
  {
   "cell_type": "code",
   "execution_count": 3,
   "metadata": {},
   "outputs": [
    {
     "name": "stdout",
     "output_type": "stream",
     "text": [
      "[5, 10, 15, 20, 25, 30, 35, 40, 45, 50]\n"
     ]
    }
   ],
   "source": [
    "list1=[10,20,30,40,50]\n",
    "list2=[5,15,25,35,45,60]\n",
    "\n",
    "list1.extend(list2)\n",
    "list3=[]\n",
    "i=0\n",
    "j=i+1\n",
    "min=list1[i]\n",
    "while(i<len(list1)-1 and j<len(list1)):\n",
    "    if(min> list1[j]):\n",
    "        min =list1[j]\n",
    "    if j+1==len(list1):\n",
    "        i=0\n",
    "        list3.append(min)\n",
    "        list1.remove(min)\n",
    "        min=list1[i]\n",
    "        j=0\n",
    "    else:\n",
    "        j=j+1\n",
    "        \n",
    "print(list3)        "
   ]
  }
 ],
 "metadata": {
  "kernelspec": {
   "display_name": "Python 3",
   "language": "python",
   "name": "python3"
  },
  "language_info": {
   "codemirror_mode": {
    "name": "ipython",
    "version": 3
   },
   "file_extension": ".py",
   "mimetype": "text/x-python",
   "name": "python",
   "nbconvert_exporter": "python",
   "pygments_lexer": "ipython3",
   "version": "3.8.3"
  }
 },
 "nbformat": 4,
 "nbformat_minor": 4
}
